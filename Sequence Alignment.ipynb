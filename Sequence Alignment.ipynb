{
 "cells": [
  {
   "cell_type": "markdown",
   "metadata": {},
   "source": [
    "# IMPORT BLOSUM62"
   ]
  },
  {
   "cell_type": "code",
   "execution_count": 1,
   "metadata": {},
   "outputs": [],
   "source": [
    "def blosum62() :\n",
    "    import json\n",
    "    with open('blosum62.json') as json_file:\n",
    "        data = json.load(json_file)\n",
    "    return data\n",
    "blosum62 = blosum62()"
   ]
  },
  {
   "cell_type": "code",
   "execution_count": 15,
   "metadata": {},
   "outputs": [
    {
     "name": "stdout",
     "output_type": "stream",
     "text": [
      "A : {'*': -4, 'A': 4, 'C': 0, 'B': -2, 'E': -1, 'D': -2, 'G': 0, 'F': -2, 'I': -1, 'H': -2, 'K': -1, 'M': -1, 'L': -1, 'N': -2, 'Q': -1, 'P': -1, 'S': 1, 'R': -1, 'T': 0, 'W': -3, 'V': 0, 'Y': -2, 'X': 0, 'Z': -1}\n",
      "\n",
      "\n",
      "C : {'*': -4, 'A': 0, 'C': 9, 'B': -3, 'E': -4, 'D': -3, 'G': -3, 'F': -2, 'I': -1, 'H': -3, 'K': -3, 'M': -1, 'L': -1, 'N': -3, 'Q': -3, 'P': -3, 'S': -1, 'R': -3, 'T': -1, 'W': -2, 'V': -1, 'Y': -2, 'X': -2, 'Z': -3}\n"
     ]
    }
   ],
   "source": [
    "print(\"A :\", blosum62['A'],sep=' ')\n",
    "print('\\n')\n",
    "print(\"C :\", blosum62['C'],sep = ' ')"
   ]
  },
  {
   "cell_type": "markdown",
   "metadata": {},
   "source": [
    "# INISALISASI MATRIX DOTPLOT AWAL\n",
    "membuat matrix dotplot awal yang akan diproses dengan algoritma needleman wunsch"
   ]
  },
  {
   "cell_type": "code",
   "execution_count": 111,
   "metadata": {},
   "outputs": [],
   "source": [
    "def initdotplot(lenSeq1,lenSeq2,gap) :\n",
    "    #inisialisasi bobot awal matrix dan index(i,j) yang disimpan\n",
    "    dotplot =[[[0,(0,0)] for i in range(lenSeq2+1)] for j in range(lenSeq1+1)] \n",
    "\n",
    "    #inisialisasi bobot baris pertama dan kolom pertama\n",
    "    for i in range(1,lenSeq1+1) :\n",
    "        if (i == 1) :\n",
    "            dotplot[i][0][0] = gap #nilai penalty awal\n",
    "        else :\n",
    "            dotplot[i][0][0] = dotplot[i-1][0][0] + gap\n",
    "    for j in range(1,lenSeq2+1) :\n",
    "        if (j == 1) :\n",
    "            dotplot[0][j][0] = gap #nilai penalty awal\n",
    "        else :\n",
    "            dotplot[0][j][0] = dotplot[0][j-1][0] + gap\n",
    "\n",
    "    return dotplot\n",
    "\n",
    "#print dotplot\n",
    "def printdotplot(dotplot) :\n",
    "    for row in dotplot :\n",
    "        for col in row :\n",
    "            print(col[0],col[1],'\\t',end = ' ')\n",
    "        print(end='\\n')"
   ]
  },
  {
   "cell_type": "markdown",
   "metadata": {},
   "source": [
    "Inputan dari program dan contoh hasilnya"
   ]
  },
  {
   "cell_type": "code",
   "execution_count": 98,
   "metadata": {},
   "outputs": [
    {
     "name": "stdout",
     "output_type": "stream",
     "text": [
      "0 (0, 0) \t -6 (0, 0) \t -12 (0, 0) \t -18 (0, 0) \t -24 (0, 0) \t -30 (0, 0) \t -36 (0, 0) \t \n",
      "-6 (0, 0) \t 0 (0, 0) \t 0 (0, 0) \t 0 (0, 0) \t 0 (0, 0) \t 0 (0, 0) \t 0 (0, 0) \t \n",
      "-12 (0, 0) \t 0 (0, 0) \t 0 (0, 0) \t 0 (0, 0) \t 0 (0, 0) \t 0 (0, 0) \t 0 (0, 0) \t \n",
      "-18 (0, 0) \t 0 (0, 0) \t 0 (0, 0) \t 0 (0, 0) \t 0 (0, 0) \t 0 (0, 0) \t 0 (0, 0) \t \n",
      "-24 (0, 0) \t 0 (0, 0) \t 0 (0, 0) \t 0 (0, 0) \t 0 (0, 0) \t 0 (0, 0) \t 0 (0, 0) \t \n",
      "-30 (0, 0) \t 0 (0, 0) \t 0 (0, 0) \t 0 (0, 0) \t 0 (0, 0) \t 0 (0, 0) \t 0 (0, 0) \t \n",
      "-36 (0, 0) \t 0 (0, 0) \t 0 (0, 0) \t 0 (0, 0) \t 0 (0, 0) \t 0 (0, 0) \t 0 (0, 0) \t \n",
      "-42 (0, 0) \t 0 (0, 0) \t 0 (0, 0) \t 0 (0, 0) \t 0 (0, 0) \t 0 (0, 0) \t 0 (0, 0) \t \n"
     ]
    }
   ],
   "source": [
    "Sequence1 = \"NALMSQA\"\n",
    "Sequence2 = \"MNALQM\"\n",
    "lenSeq1 = len(Sequence1)\n",
    "lenSeq2 = len(Sequence2)\n",
    "gap = -6\n",
    "dotplot = initdotplot(lenSeq1,lenSeq2,gap)\n",
    "printdotplot(dotplot)"
   ]
  },
  {
   "cell_type": "markdown",
   "metadata": {},
   "source": [
    "# ALGORITMA NEEDLEMAN WUNSCH\n",
    "idTochar -> berfungsi untuk mengubah nilai bilangan bulat ke karakter/huruf pada Sequence yang diinputkan"
   ]
  },
  {
   "cell_type": "code",
   "execution_count": 99,
   "metadata": {},
   "outputs": [],
   "source": [
    "def idToChar(k,code) :\n",
    "    if code == 0 : return Sequence1[k-1]\n",
    "    else : return Sequence2[k-1]\n",
    "\n",
    "def Needleman(dotplot,lenSeq1,lenSeq2,gap) :\n",
    "    for i in range(1,lenSeq1+1) :\n",
    "        for j in range(1,lenSeq2+1) :\n",
    "            #diagonal kiri atas\n",
    "            Bij = blosum62[idToChar(i,0)][idToChar(j,1)]\n",
    "            dotplot[i][j][0] = dotplot[i-1][j-1][0] + Bij\n",
    "            dotplot[i][j][1] = (i-1,j-1)\n",
    "            #atas\n",
    "            for k in range(1,i) :\n",
    "                if (dotplot[i][j][0] < dotplot[i-k][j][0] + gap*k) :\n",
    "                    dotplot[i][j][0] = dotplot[i-k][j][0] + gap*k\n",
    "                    dotplot[i][j][1] = (i-k,j)\n",
    "            #kiri\n",
    "            for k in range(1,j) :\n",
    "                if (dotplot[i][j][0] < dotplot[i][j-k][0] + gap*k) :\n",
    "                    dotplot[i][j][0] = dotplot[i][j-k][0] + gap*k\n",
    "                    dotplot[i][j][1] = (i,j-k)\n",
    "    return dotplot"
   ]
  },
  {
   "cell_type": "code",
   "execution_count": 100,
   "metadata": {},
   "outputs": [
    {
     "name": "stdout",
     "output_type": "stream",
     "text": [
      "0 (0, 0) \t -6 (0, 0) \t -12 (0, 0) \t -18 (0, 0) \t -24 (0, 0) \t -30 (0, 0) \t -36 (0, 0) \t \n",
      "-6 (0, 0) \t -2 (0, 0) \t 0 (0, 1) \t -6 (1, 2) \t -12 (1, 3) \t -18 (1, 4) \t -24 (1, 5) \t \n",
      "-12 (0, 0) \t -7 (1, 0) \t -4 (1, 1) \t 4 (1, 2) \t -2 (2, 3) \t -8 (2, 4) \t -14 (2, 5) \t \n",
      "-18 (0, 0) \t -10 (2, 0) \t -10 (2, 1) \t -2 (2, 3) \t 8 (2, 3) \t 2 (3, 4) \t -4 (3, 5) \t \n",
      "-24 (0, 0) \t -13 (3, 0) \t -12 (3, 1) \t -8 (3, 3) \t 2 (3, 4) \t 8 (3, 4) \t 7 (3, 5) \t \n",
      "-30 (0, 0) \t -19 (4, 1) \t -12 (4, 1) \t -11 (4, 2) \t -4 (4, 4) \t 2 (4, 4) \t 7 (4, 5) \t \n",
      "-36 (0, 0) \t -25 (5, 1) \t -18 (5, 2) \t -13 (5, 2) \t -10 (5, 4) \t 1 (5, 4) \t 2 (5, 5) \t \n",
      "-42 (0, 0) \t -31 (6, 1) \t -24 (6, 2) \t -14 (6, 2) \t -14 (6, 3) \t -5 (6, 5) \t 0 (6, 5) \t \n"
     ]
    }
   ],
   "source": [
    "dotplot = Needleman(dotplot,lenSeq1,lenSeq2,gap)\n",
    "printdotplot(dotplot)"
   ]
  },
  {
   "cell_type": "markdown",
   "metadata": {},
   "source": [
    "# Trackback untuk mendapatkan pasangan sequence yang menjadi kandidat jawaban"
   ]
  },
  {
   "cell_type": "code",
   "execution_count": 101,
   "metadata": {},
   "outputs": [],
   "source": [
    "#backtracking matrix dotplot untuk mendapatkan hasil string 1 dan hasil string 2\n",
    "def trackback(dotplot,lenSeq1,lenSeq2) :\n",
    "    resultSeq1 = \"\"\n",
    "    resultSeq2 = \"\"\n",
    "    idx = lenSeq1\n",
    "    idy = lenSeq2\n",
    "    while(idx != 0 or idy != 0) :\n",
    "        val = dotplot[idx][idy][0]\n",
    "        pos = dotplot[idx][idy][1]\n",
    "        #jika pindah ke diagonal kiri atas\n",
    "        if (pos[0]+1 == idx and pos[1]+1==idy) :\n",
    "            resultSeq1 = idToChar(idx,0) + resultSeq1\n",
    "            resultSeq2 = idToChar(idy,1) + resultSeq2\n",
    "        #jika pindah ke kiri\n",
    "        if (pos[0] == idx) :\n",
    "            star = \"*\" * (idy-pos[1])\n",
    "            resultSeq1 = star + resultSeq1\n",
    "            for i in range(pos[1],idy) :\n",
    "                resultSeq2 = idToChar(i+1,1) + resultSeq2\n",
    "        #jika pindah ke atas\n",
    "        if (pos[1] == idy) :\n",
    "            star = \"*\" * (idx-pos[0])\n",
    "            resultSeq2 = star + resultSeq2\n",
    "            for i in range(pos[0],idx) :\n",
    "                resultSeq1 = idToChar(i+1,0) + resultSeq1   \n",
    "        idx,idy = pos[0],pos[1]\n",
    "    return resultSeq1,resultSeq2"
   ]
  },
  {
   "cell_type": "markdown",
   "metadata": {},
   "source": [
    "Fungsi yang berfungsi untuk mendapatkan semua pasangan Sequence yang menjadi kandidat jawaban"
   ]
  },
  {
   "cell_type": "code",
   "execution_count": 112,
   "metadata": {},
   "outputs": [],
   "source": [
    "def getAllSequenceAlignment(dotplot,lenSeq1,lenSeq2) :\n",
    "    res = list()\n",
    "    for i in range(1,lenSeq1+1) :\n",
    "        resSeq1, resSeq2 = trackback(dotplot,i,lenSeq2)\n",
    "        if (i != lenSeq1) :\n",
    "            for j in range(i+1,lenSeq1+1) :\n",
    "                resSeq1 = resSeq1 + Sequence1[j-1]\n",
    "                resSeq2 = resSeq2 + '*'\n",
    "        res.append((resSeq1,resSeq2))\n",
    "    for i in range(1,lenSeq2+1) :\n",
    "        resSeq1, resSeq2 = trackback(dotplot,lenSeq1,i)\n",
    "        if (i != lenSeq2) :\n",
    "            for j in range(i+1,lenSeq2+1) :\n",
    "                resSeq2 = resSeq2 + Sequence2[j-1]\n",
    "                resSeq1 = resSeq1 + '*'\n",
    "        res.append((resSeq1,resSeq2))\n",
    "    return res"
   ]
  },
  {
   "cell_type": "code",
   "execution_count": 103,
   "metadata": {},
   "outputs": [
    {
     "data": {
      "text/plain": [
       "[('*N****ALMSQA', 'MNALQM******'),\n",
       " ('*NA***LMSQA', 'MNALQM*****'),\n",
       " ('*NAL**MSQA', 'MNALQM****'),\n",
       " ('*NAL*MSQA', 'MNALQM***'),\n",
       " ('*NALMSQA', 'MNALQM**'),\n",
       " ('*NALMSQA', 'MNAL*QM*'),\n",
       " ('*NALMSQA', 'MNAL**QM'),\n",
       " ('LANMSQA*****', '***M***NALQM'),\n",
       " ('LANMSQA****', '***MN**ALQM'),\n",
       " ('LANMSQA***', '***MN*ALQM'),\n",
       " ('LANMSQA**', '***MNALQM'),\n",
       " ('*NALMSQA*', 'MNAL**Q*M'),\n",
       " ('*NALMSQA', 'MNAL**QM')]"
      ]
     },
     "execution_count": 103,
     "metadata": {},
     "output_type": "execute_result"
    }
   ],
   "source": [
    "listSeqAlignment = getAllSequenceAlignment(dotplot,lenSeq1,lenSeq2)\n",
    "listSeqAlignment"
   ]
  },
  {
   "cell_type": "markdown",
   "metadata": {},
   "source": [
    "# Menghitung Score dari pasangan Sequence"
   ]
  },
  {
   "cell_type": "code",
   "execution_count": 104,
   "metadata": {},
   "outputs": [],
   "source": [
    "def CalcScore(resultSeq1,resultSeq2) :\n",
    "    score = list()\n",
    "    for i in range(len(resultSeq1)) :\n",
    "        if (resultSeq1[i] == '*' and resultSeq2[i] == '*') :\n",
    "            score.append(1)\n",
    "        elif (resultSeq1[i] == '*' or resultSeq2[i] == '*') :\n",
    "            score.append(gap)\n",
    "        else : \n",
    "            score.append(blosum62[resultSeq1[i]][resultSeq2[i]])\n",
    "    return score"
   ]
  },
  {
   "cell_type": "markdown",
   "metadata": {},
   "source": [
    "# Mendapatkan pasangan sequence yang terbaik"
   ]
  },
  {
   "cell_type": "code",
   "execution_count": 107,
   "metadata": {},
   "outputs": [],
   "source": [
    "def BestSeqAlignment(listSeq) :\n",
    "    bestScore = [-9999]\n",
    "    bestSeq = (\"\",\"\")\n",
    "    for Seq in listSeq :\n",
    "        ScoreSeq = CalcScore(Seq[0],Seq[1])\n",
    "        if (sum(bestScore) < sum(ScoreSeq)) :\n",
    "            bestScore = ScoreSeq\n",
    "            bestSeq = (Seq[0],Seq[1])\n",
    "    return bestScore,bestSeq\n",
    "            "
   ]
  },
  {
   "cell_type": "code",
   "execution_count": 108,
   "metadata": {},
   "outputs": [],
   "source": [
    "ansScore,ansSeq = BestSeqAlignment(listSeqAlignment)"
   ]
  },
  {
   "cell_type": "markdown",
   "metadata": {},
   "source": [
    "# Hasil"
   ]
  },
  {
   "cell_type": "code",
   "execution_count": 109,
   "metadata": {},
   "outputs": [
    {
     "name": "stdout",
     "output_type": "stream",
     "text": [
      "*NALMSQA\n",
      "MNAL**QM\n",
      "[-6, 6, 4, 4, -6, -6, 5, -1]\n",
      "0\n"
     ]
    }
   ],
   "source": [
    "print(ansSeq[0],ansSeq[1],sep=\"\\n\")\n",
    "print(ansScore,sum(ansScore),sep=\"\\n\")"
   ]
  },
  {
   "cell_type": "code",
   "execution_count": null,
   "metadata": {},
   "outputs": [],
   "source": []
  },
  {
   "cell_type": "code",
   "execution_count": null,
   "metadata": {},
   "outputs": [],
   "source": []
  }
 ],
 "metadata": {
  "kernelspec": {
   "display_name": "Python 3",
   "language": "python",
   "name": "python3"
  },
  "language_info": {
   "codemirror_mode": {
    "name": "ipython",
    "version": 3
   },
   "file_extension": ".py",
   "mimetype": "text/x-python",
   "name": "python",
   "nbconvert_exporter": "python",
   "pygments_lexer": "ipython3",
   "version": "3.7.3"
  }
 },
 "nbformat": 4,
 "nbformat_minor": 2
}
