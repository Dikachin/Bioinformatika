{
 "cells": [
  {
   "cell_type": "code",
   "execution_count": 1,
   "metadata": {},
   "outputs": [],
   "source": [
    "import numpy as np\n",
    "import pandas as pd\n",
    "import matplotlib.pyplot as plt"
   ]
  },
  {
   "cell_type": "markdown",
   "metadata": {},
   "source": [
    "# READ DATA"
   ]
  },
  {
   "cell_type": "code",
   "execution_count": 2,
   "metadata": {},
   "outputs": [],
   "source": [
    "import requests\n",
    "import io\n",
    "url=\"https://raw.githubusercontent.com/JiayingLi/Protein-Secondary-Structure-Prediction-using-Convolution-Neural-Network/master/RS126.data\"\n",
    "raw=requests.get(url).content\n",
    "data = pd.read_csv(io.StringIO(raw.decode('utf-8')),header=None)"
   ]
  },
  {
   "cell_type": "code",
   "execution_count": 3,
   "metadata": {},
   "outputs": [
    {
     "data": {
      "text/html": [
       "<div>\n",
       "<style scoped>\n",
       "    .dataframe tbody tr th:only-of-type {\n",
       "        vertical-align: middle;\n",
       "    }\n",
       "\n",
       "    .dataframe tbody tr th {\n",
       "        vertical-align: top;\n",
       "    }\n",
       "\n",
       "    .dataframe thead th {\n",
       "        text-align: right;\n",
       "    }\n",
       "</style>\n",
       "<table border=\"1\" class=\"dataframe\">\n",
       "  <thead>\n",
       "    <tr style=\"text-align: right;\">\n",
       "      <th></th>\n",
       "      <th>0</th>\n",
       "    </tr>\n",
       "  </thead>\n",
       "  <tbody>\n",
       "    <tr>\n",
       "      <th>0</th>\n",
       "      <td>APAFSVSPASGASDGQSVSVSVAAAGETYYIAQCAPVGGQDACNPA...</td>\n",
       "    </tr>\n",
       "    <tr>\n",
       "      <th>1</th>\n",
       "      <td>CCEEEEECCCCCCCCCEEEEEEECCCCEEEEEEECEECCEECCCCC...</td>\n",
       "    </tr>\n",
       "    <tr>\n",
       "      <th>2</th>\n",
       "      <td>CSVDIQGNDQMQFNTNAITVDKSCKQFTVNLSHPGNLPKNVMGHNW...</td>\n",
       "    </tr>\n",
       "    <tr>\n",
       "      <th>3</th>\n",
       "      <td>CCEEEECCCCCCCCCCCEECCCCCCEEEEEEECCCCCCCCCCCECC...</td>\n",
       "    </tr>\n",
       "    <tr>\n",
       "      <th>4</th>\n",
       "      <td>NVYHDGACPEVKPVDNFDWSNYHGKWWEVAKYPNSVEKYGKCGWAE...</td>\n",
       "    </tr>\n",
       "  </tbody>\n",
       "</table>\n",
       "</div>"
      ],
      "text/plain": [
       "                                                   0\n",
       "0  APAFSVSPASGASDGQSVSVSVAAAGETYYIAQCAPVGGQDACNPA...\n",
       "1  CCEEEEECCCCCCCCCEEEEEEECCCCEEEEEEECEECCEECCCCC...\n",
       "2  CSVDIQGNDQMQFNTNAITVDKSCKQFTVNLSHPGNLPKNVMGHNW...\n",
       "3  CCEEEECCCCCCCCCCCEECCCCCCEEEEEEECCCCCCCCCCCECC...\n",
       "4  NVYHDGACPEVKPVDNFDWSNYHGKWWEVAKYPNSVEKYGKCGWAE..."
      ]
     },
     "execution_count": 3,
     "metadata": {},
     "output_type": "execute_result"
    }
   ],
   "source": [
    "data.head()"
   ]
  },
  {
   "cell_type": "code",
   "execution_count": 4,
   "metadata": {},
   "outputs": [
    {
     "name": "stdout",
     "output_type": "stream",
     "text": [
      "252\n"
     ]
    }
   ],
   "source": [
    "print(len(data))"
   ]
  },
  {
   "cell_type": "markdown",
   "metadata": {},
   "source": [
    "# SPLIT DATA"
   ]
  },
  {
   "cell_type": "code",
   "execution_count": 5,
   "metadata": {},
   "outputs": [],
   "source": [
    "#split struktur primer dan struktur sekunder\n",
    "primer = []\n",
    "sekunder = []\n",
    "for i in range(0,len(data),2) :\n",
    "    if (len(data.iloc[i,0]) != len(data.iloc[i+1,0])) :\n",
    "        continue\n",
    "    primer.append(data.iloc[i,0])\n",
    "    sekunder.append(data.iloc[i+1,0])"
   ]
  },
  {
   "cell_type": "code",
   "execution_count": 6,
   "metadata": {},
   "outputs": [
    {
     "name": "stdout",
     "output_type": "stream",
     "text": [
      "Banyak sampel :  125\n",
      "Example struktur primer :\n",
      "1  :  APAFSVSPASGASDGQSVSVSVAAAGETYYIAQCAPVGGQDACNPATATSFTTDASGAASFSFTVRKSYAGQTPSGTPVGSVDCATDACNLGAGNSGLNLGHVALTFG\n",
      "2  :  CSVDIQGNDQMQFNTNAITVDKSCKQFTVNLSHPGNLPKNVMGHNWVLSTAADMQGVVTDGMASGLDKDYLKPDDSRVIAHTKLIGSGEKDSVTFDVSKLKEGEQYMFFCTFPGHSALMKGTLTLK\n",
      "3  :  NVYHDGACPEVKPVDNFDWSNYHGKWWEVAKYPNSVEKYGKCGWAEYTPEGKSVKVSNYHVIHGKEYFIEGTAYPVGDSKIGKIYHKLTYGGVTKENVFNVLSTDNKNYIIGYYCKYDEDKKGHQDFVWVLSRSKVLTGEAKTAVENYLIGSPVVDSQKLVYSDFSEAACKVN\n",
      "4  :  AAPCFCSGKPGRGDLWILRGTCPGGYGYTSNCYKWPNICCYPH\n",
      "5  :  SISQQTVWNQMATVRTPLNFDSSKQSFCQFSVDLLGGGISVDKTGDWITLVQNSPISNLLRVAAWKKGCLMVKVVMSGNAAVKRSDWASLVQVFLTNSNSTEHFDACRWTKSEPHSWELIFPIEVCGPNNGFEMWSSEWANQTSWHLSFLVDNPKQSTTFDVLLGISQNFEIAGNTLMPAFSVPQ\n"
     ]
    }
   ],
   "source": [
    "print('Banyak sampel : ',len(primer))\n",
    "print('Example struktur primer :')\n",
    "for i in range(5) :\n",
    "    print(i+1,' : ',primer[i])"
   ]
  },
  {
   "cell_type": "code",
   "execution_count": 7,
   "metadata": {},
   "outputs": [
    {
     "name": "stdout",
     "output_type": "stream",
     "text": [
      "Banyak sampel :  125\n",
      "Example struktur sekunder :\n",
      "1  :  CCEEEEECCCCCCCCCEEEEEEECCCCEEEEEEECEECCEECCCCCCCCEEECCCCCCCEEEEECCCEEEEECCCCCEEEEEECCCCCCEEEEECCCCCCCCCCCCCC\n",
      "2  :  CCEEEECCCCCCCCCCCEECCCCCCEEEEEEECCCCCCCCCCCECCEEEECCCCHHHHHHHHHHCHHHHCCCCCCCCCCECCCCECCCCCEEEEEECCCCCCCCCEEEECCCCCCCCCCEEEEECC\n",
      "3  :  CEEEECCCCCCCCCCCCCHHHCCEEEEEEEECCCCCCCCCEEEEEEEEECCCCEEEEEEEEECCEEEEEEEEEEECCCCCCCEEEEEEEECCEEEEEEEEEEEECCCCEEEEEEEEEECCCCEEEEEEEEEECCCCCCHHHHHHHHHHHHHCCCCCHHHCEECCCCHHHHCCC\n",
      "4  :  CCCCCCCCCCCCCEEECCCCCCCCCCCCCCEEEECCEEEECCC\n",
      "5  :  CCCCCCCCEEEEEEECCCCCCCCCCCEEEEEEECCCCEEECCCCCCCEEEECCCHHHHHHHHECCEEEEEEEEEEEECCCCCCHHHCCCCEEEEEECCCCCCCCCCEEEEECCCCEEEEEEEEEECCCCCCCECCCCCCCCCCCCEEEEEEECCCCCCEEEEEEEECCCCEECCEEECCCEECCC\n"
     ]
    }
   ],
   "source": [
    "print('Banyak sampel : ',len(sekunder))\n",
    "print('Example struktur sekunder :')\n",
    "for i in range(5) :\n",
    "    print(i+1,' : ',sekunder[i])"
   ]
  },
  {
   "cell_type": "markdown",
   "metadata": {},
   "source": [
    "# ENCODING"
   ]
  },
  {
   "cell_type": "code",
   "execution_count": 8,
   "metadata": {},
   "outputs": [],
   "source": [
    "def encode_primer(residue) :\n",
    "    result = [1 if residue == amino_acid else 0\n",
    "            for amino_acid in ('A', 'R', 'N', 'D', 'C', 'E', 'Q', 'G', 'H', 'I',\n",
    "                               'L', 'K', 'M', 'F', 'P', 'S', 'T', 'W', 'Y', 'V')]\n",
    "    return np.array(result)"
   ]
  },
  {
   "cell_type": "code",
   "execution_count": 9,
   "metadata": {},
   "outputs": [],
   "source": [
    "def encode_sekunder(residue) :\n",
    "    if (residue == 'H') :\n",
    "        return 0\n",
    "    elif (residue == 'E') :\n",
    "        return 1\n",
    "    else :\n",
    "        return 2"
   ]
  },
  {
   "cell_type": "code",
   "execution_count": 10,
   "metadata": {},
   "outputs": [],
   "source": [
    "#Encoding Struktur Primer\n",
    "X = [None]*len(primer)\n",
    "i = 0\n",
    "for seq in primer :\n",
    "    X[i] = []\n",
    "    for j in range(len(seq)) :\n",
    "        res = encode_primer(seq[j])\n",
    "        X[i].append(res)\n",
    "    i+=1"
   ]
  },
  {
   "cell_type": "code",
   "execution_count": 11,
   "metadata": {},
   "outputs": [
    {
     "name": "stdout",
     "output_type": "stream",
     "text": [
      "A [1 0 0 0 0 0 0 0 0 0 0 0 0 0 0 0 0 0 0 0]\n",
      "A [1 0 0 0 0 0 0 0 0 0 0 0 0 0 0 0 0 0 0 0]\n",
      "P [0 0 0 0 0 0 0 0 0 0 0 0 0 0 1 0 0 0 0 0]\n",
      "C [0 0 0 0 1 0 0 0 0 0 0 0 0 0 0 0 0 0 0 0]\n",
      "F [0 0 0 0 0 0 0 0 0 0 0 0 0 1 0 0 0 0 0 0]\n",
      "C [0 0 0 0 1 0 0 0 0 0 0 0 0 0 0 0 0 0 0 0]\n",
      "S [0 0 0 0 0 0 0 0 0 0 0 0 0 0 0 1 0 0 0 0]\n",
      "G [0 0 0 0 0 0 0 1 0 0 0 0 0 0 0 0 0 0 0 0]\n",
      "K [0 0 0 0 0 0 0 0 0 0 0 1 0 0 0 0 0 0 0 0]\n",
      "P [0 0 0 0 0 0 0 0 0 0 0 0 0 0 1 0 0 0 0 0]\n",
      "G [0 0 0 0 0 0 0 1 0 0 0 0 0 0 0 0 0 0 0 0]\n",
      "R [0 1 0 0 0 0 0 0 0 0 0 0 0 0 0 0 0 0 0 0]\n",
      "G [0 0 0 0 0 0 0 1 0 0 0 0 0 0 0 0 0 0 0 0]\n",
      "D [0 0 0 1 0 0 0 0 0 0 0 0 0 0 0 0 0 0 0 0]\n",
      "L [0 0 0 0 0 0 0 0 0 0 1 0 0 0 0 0 0 0 0 0]\n",
      "W [0 0 0 0 0 0 0 0 0 0 0 0 0 0 0 0 0 1 0 0]\n",
      "I [0 0 0 0 0 0 0 0 0 1 0 0 0 0 0 0 0 0 0 0]\n",
      "L [0 0 0 0 0 0 0 0 0 0 1 0 0 0 0 0 0 0 0 0]\n",
      "R [0 1 0 0 0 0 0 0 0 0 0 0 0 0 0 0 0 0 0 0]\n",
      "G [0 0 0 0 0 0 0 1 0 0 0 0 0 0 0 0 0 0 0 0]\n",
      "T [0 0 0 0 0 0 0 0 0 0 0 0 0 0 0 0 1 0 0 0]\n",
      "C [0 0 0 0 1 0 0 0 0 0 0 0 0 0 0 0 0 0 0 0]\n",
      "P [0 0 0 0 0 0 0 0 0 0 0 0 0 0 1 0 0 0 0 0]\n",
      "G [0 0 0 0 0 0 0 1 0 0 0 0 0 0 0 0 0 0 0 0]\n",
      "G [0 0 0 0 0 0 0 1 0 0 0 0 0 0 0 0 0 0 0 0]\n",
      "Y [0 0 0 0 0 0 0 0 0 0 0 0 0 0 0 0 0 0 1 0]\n",
      "G [0 0 0 0 0 0 0 1 0 0 0 0 0 0 0 0 0 0 0 0]\n",
      "Y [0 0 0 0 0 0 0 0 0 0 0 0 0 0 0 0 0 0 1 0]\n",
      "T [0 0 0 0 0 0 0 0 0 0 0 0 0 0 0 0 1 0 0 0]\n",
      "S [0 0 0 0 0 0 0 0 0 0 0 0 0 0 0 1 0 0 0 0]\n",
      "N [0 0 1 0 0 0 0 0 0 0 0 0 0 0 0 0 0 0 0 0]\n",
      "C [0 0 0 0 1 0 0 0 0 0 0 0 0 0 0 0 0 0 0 0]\n",
      "Y [0 0 0 0 0 0 0 0 0 0 0 0 0 0 0 0 0 0 1 0]\n",
      "K [0 0 0 0 0 0 0 0 0 0 0 1 0 0 0 0 0 0 0 0]\n",
      "W [0 0 0 0 0 0 0 0 0 0 0 0 0 0 0 0 0 1 0 0]\n",
      "P [0 0 0 0 0 0 0 0 0 0 0 0 0 0 1 0 0 0 0 0]\n",
      "N [0 0 1 0 0 0 0 0 0 0 0 0 0 0 0 0 0 0 0 0]\n",
      "I [0 0 0 0 0 0 0 0 0 1 0 0 0 0 0 0 0 0 0 0]\n",
      "C [0 0 0 0 1 0 0 0 0 0 0 0 0 0 0 0 0 0 0 0]\n",
      "C [0 0 0 0 1 0 0 0 0 0 0 0 0 0 0 0 0 0 0 0]\n",
      "Y [0 0 0 0 0 0 0 0 0 0 0 0 0 0 0 0 0 0 1 0]\n",
      "P [0 0 0 0 0 0 0 0 0 0 0 0 0 0 1 0 0 0 0 0]\n",
      "H [0 0 0 0 0 0 0 0 1 0 0 0 0 0 0 0 0 0 0 0]\n"
     ]
    }
   ],
   "source": [
    "#Hasil Encoding\n",
    "for i in range(len(X[3])) :\n",
    "    print(primer[3][i],X[3][i])"
   ]
  },
  {
   "cell_type": "code",
   "execution_count": 12,
   "metadata": {},
   "outputs": [],
   "source": [
    "#Encoding struktur sekunder\n",
    "Y = [None]*len(sekunder)\n",
    "i = 0\n",
    "for seq in sekunder :\n",
    "    Y[i] = []\n",
    "    for j in range(len(seq)) :\n",
    "        res = encode_sekunder(seq[j])\n",
    "        Y[i].append(res)\n",
    "    i+=1"
   ]
  },
  {
   "cell_type": "code",
   "execution_count": 13,
   "metadata": {},
   "outputs": [
    {
     "name": "stdout",
     "output_type": "stream",
     "text": [
      "2 2 2 2 2 2 2 2 2 2 2 2 2 1 1 1 2 2 2 2 2 2 2 2 2 2 2 2 2 2 1 1 1 1 2 2 1 1 1 1 2 2 2 \n",
      "C C C C C C C C C C C C C E E E C C C C C C C C C C C C C C E E E E C C E E E E C C C "
     ]
    }
   ],
   "source": [
    "#Hasil Encoding struktur sekunder\n",
    "for i in range(len(Y[3])) :\n",
    "    print(Y[3][i],end=' ')\n",
    "print()\n",
    "for i in range(len(Y[3])) :\n",
    "    print(sekunder[3][i],end = ' ')"
   ]
  },
  {
   "cell_type": "markdown",
   "metadata": {},
   "source": [
    "Mengubah bentuk data agar sesuai dengan data input SVM"
   ]
  },
  {
   "cell_type": "code",
   "execution_count": 14,
   "metadata": {},
   "outputs": [],
   "source": [
    "temp = []\n",
    "for y in Y :\n",
    "    for yi in y :\n",
    "        temp.append(yi)\n",
    "Y = temp[0:]"
   ]
  },
  {
   "cell_type": "code",
   "execution_count": 15,
   "metadata": {},
   "outputs": [
    {
     "data": {
      "text/plain": [
       "22594"
      ]
     },
     "execution_count": 15,
     "metadata": {},
     "output_type": "execute_result"
    }
   ],
   "source": [
    "len(Y)"
   ]
  },
  {
   "cell_type": "code",
   "execution_count": 16,
   "metadata": {},
   "outputs": [],
   "source": [
    "#Menambahkan Padding dan mengatur besar window(sliding window)\n",
    "def window_padding(size,X) :\n",
    "    num = int(size/2)\n",
    "    zeros = np.array([0 for i in range(20)])\n",
    "    for i in range(len(X)):\n",
    "        for j in range(num):\n",
    "            X[i].append(zeros)\n",
    "            X[i].insert(0, zeros)\n",
    "            \n",
    "    Result = []\n",
    "    temp = []\n",
    "\n",
    "    for i in range(len(X)):\n",
    "        for j in range(len(X[i])-(size-1)):\n",
    "            temp = X[i][j:j+size]\n",
    "            Result.append(temp[0:])\n",
    "            temp = []\n",
    "\n",
    "    return Result"
   ]
  },
  {
   "cell_type": "code",
   "execution_count": 17,
   "metadata": {},
   "outputs": [],
   "source": [
    "size = 3 #ukuran window\n",
    "X = window_padding(size,X)"
   ]
  },
  {
   "cell_type": "code",
   "execution_count": 18,
   "metadata": {},
   "outputs": [
    {
     "data": {
      "text/plain": [
       "22594"
      ]
     },
     "execution_count": 18,
     "metadata": {},
     "output_type": "execute_result"
    }
   ],
   "source": [
    "len(X)"
   ]
  },
  {
   "cell_type": "code",
   "execution_count": 19,
   "metadata": {},
   "outputs": [],
   "source": [
    "X = np.array(X)\n",
    "Y = np.array(Y)\n",
    "X = X.reshape(22594, 3*20)"
   ]
  },
  {
   "cell_type": "markdown",
   "metadata": {},
   "source": [
    "# SPLIT DATA TRAINING DAN TESTING"
   ]
  },
  {
   "cell_type": "code",
   "execution_count": 20,
   "metadata": {},
   "outputs": [],
   "source": [
    "from sklearn.model_selection import train_test_split\n",
    "X_train, X_test, Y_train, Y_test = train_test_split(X, Y, test_size = 0.20)"
   ]
  },
  {
   "cell_type": "markdown",
   "metadata": {},
   "source": [
    "# SUPPORT VECTOR MACHINE"
   ]
  },
  {
   "cell_type": "code",
   "execution_count": 21,
   "metadata": {},
   "outputs": [],
   "source": [
    "from sklearn.svm import SVC\n",
    "from sklearn.metrics import classification_report\n",
    "#parameter\n",
    "kernels = ['linear', 'rbf', 'poly']\n",
    "gammas = [0.1, 1, 10]\n",
    "Cs = [0.1, 1, 10]"
   ]
  },
  {
   "cell_type": "code",
   "execution_count": 22,
   "metadata": {},
   "outputs": [
    {
     "name": "stdout",
     "output_type": "stream",
     "text": [
      "kernel :  linear   gamma =  0.1   C =    0.1\n",
      "              precision    recall  f1-score   support\n",
      "\n",
      "           0       0.50      0.48      0.49      1439\n",
      "           1       0.49      0.31      0.38      1090\n",
      "           2       0.59      0.72      0.65      1990\n",
      "\n",
      "    accuracy                           0.55      4519\n",
      "   macro avg       0.53      0.50      0.51      4519\n",
      "weighted avg       0.54      0.55      0.53      4519\n",
      "\n",
      "kernel :  linear   gamma =  0.1   C =    1\n",
      "              precision    recall  f1-score   support\n",
      "\n",
      "           0       0.49      0.49      0.49      1439\n",
      "           1       0.49      0.32      0.38      1090\n",
      "           2       0.59      0.71      0.65      1990\n",
      "\n",
      "    accuracy                           0.55      4519\n",
      "   macro avg       0.52      0.51      0.51      4519\n",
      "weighted avg       0.54      0.55      0.53      4519\n",
      "\n",
      "kernel :  linear   gamma =  0.1   C =    10\n",
      "              precision    recall  f1-score   support\n",
      "\n",
      "           0       0.49      0.49      0.49      1439\n",
      "           1       0.48      0.32      0.39      1090\n",
      "           2       0.60      0.70      0.65      1990\n",
      "\n",
      "    accuracy                           0.54      4519\n",
      "   macro avg       0.52      0.51      0.51      4519\n",
      "weighted avg       0.54      0.54      0.53      4519\n",
      "\n",
      "kernel :  linear   gamma =  1   C =    0.1\n",
      "              precision    recall  f1-score   support\n",
      "\n",
      "           0       0.50      0.48      0.49      1439\n",
      "           1       0.49      0.31      0.38      1090\n",
      "           2       0.59      0.72      0.65      1990\n",
      "\n",
      "    accuracy                           0.55      4519\n",
      "   macro avg       0.53      0.50      0.51      4519\n",
      "weighted avg       0.54      0.55      0.53      4519\n",
      "\n",
      "kernel :  linear   gamma =  1   C =    1\n",
      "              precision    recall  f1-score   support\n",
      "\n",
      "           0       0.49      0.49      0.49      1439\n",
      "           1       0.49      0.32      0.38      1090\n",
      "           2       0.59      0.71      0.65      1990\n",
      "\n",
      "    accuracy                           0.55      4519\n",
      "   macro avg       0.52      0.51      0.51      4519\n",
      "weighted avg       0.54      0.55      0.53      4519\n",
      "\n",
      "kernel :  linear   gamma =  1   C =    10\n",
      "              precision    recall  f1-score   support\n",
      "\n",
      "           0       0.49      0.49      0.49      1439\n",
      "           1       0.48      0.32      0.39      1090\n",
      "           2       0.60      0.70      0.65      1990\n",
      "\n",
      "    accuracy                           0.54      4519\n",
      "   macro avg       0.52      0.51      0.51      4519\n",
      "weighted avg       0.54      0.54      0.53      4519\n",
      "\n",
      "kernel :  linear   gamma =  10   C =    0.1\n",
      "              precision    recall  f1-score   support\n",
      "\n",
      "           0       0.50      0.48      0.49      1439\n",
      "           1       0.49      0.31      0.38      1090\n",
      "           2       0.59      0.72      0.65      1990\n",
      "\n",
      "    accuracy                           0.55      4519\n",
      "   macro avg       0.53      0.50      0.51      4519\n",
      "weighted avg       0.54      0.55      0.53      4519\n",
      "\n",
      "kernel :  linear   gamma =  10   C =    1\n",
      "              precision    recall  f1-score   support\n",
      "\n",
      "           0       0.49      0.49      0.49      1439\n",
      "           1       0.49      0.32      0.38      1090\n",
      "           2       0.59      0.71      0.65      1990\n",
      "\n",
      "    accuracy                           0.55      4519\n",
      "   macro avg       0.52      0.51      0.51      4519\n",
      "weighted avg       0.54      0.55      0.53      4519\n",
      "\n",
      "kernel :  linear   gamma =  10   C =    10\n",
      "              precision    recall  f1-score   support\n",
      "\n",
      "           0       0.49      0.49      0.49      1439\n",
      "           1       0.48      0.32      0.39      1090\n",
      "           2       0.60      0.70      0.65      1990\n",
      "\n",
      "    accuracy                           0.54      4519\n",
      "   macro avg       0.52      0.51      0.51      4519\n",
      "weighted avg       0.54      0.54      0.53      4519\n",
      "\n",
      "kernel :  rbf   gamma =  0.1   C =    0.1\n",
      "              precision    recall  f1-score   support\n",
      "\n",
      "           0       0.50      0.46      0.48      1439\n",
      "           1       0.49      0.22      0.30      1090\n",
      "           2       0.56      0.76      0.65      1990\n",
      "\n",
      "    accuracy                           0.54      4519\n",
      "   macro avg       0.52      0.48      0.48      4519\n",
      "weighted avg       0.53      0.54      0.51      4519\n",
      "\n",
      "kernel :  rbf   gamma =  0.1   C =    1\n",
      "              precision    recall  f1-score   support\n",
      "\n",
      "           0       0.50      0.47      0.49      1439\n",
      "           1       0.49      0.28      0.35      1090\n",
      "           2       0.58      0.74      0.65      1990\n",
      "\n",
      "    accuracy                           0.54      4519\n",
      "   macro avg       0.52      0.50      0.50      4519\n",
      "weighted avg       0.53      0.54      0.53      4519\n",
      "\n",
      "kernel :  rbf   gamma =  0.1   C =    10\n",
      "              precision    recall  f1-score   support\n",
      "\n",
      "           0       0.48      0.45      0.47      1439\n",
      "           1       0.45      0.30      0.36      1090\n",
      "           2       0.58      0.71      0.64      1990\n",
      "\n",
      "    accuracy                           0.53      4519\n",
      "   macro avg       0.50      0.49      0.49      4519\n",
      "weighted avg       0.52      0.53      0.52      4519\n",
      "\n",
      "kernel :  rbf   gamma =  1   C =    0.1\n",
      "              precision    recall  f1-score   support\n",
      "\n",
      "           0       0.56      0.24      0.33      1439\n",
      "           1       0.55      0.05      0.10      1090\n",
      "           2       0.49      0.93      0.64      1990\n",
      "\n",
      "    accuracy                           0.50      4519\n",
      "   macro avg       0.53      0.41      0.36      4519\n",
      "weighted avg       0.52      0.50      0.41      4519\n",
      "\n",
      "kernel :  rbf   gamma =  1   C =    1\n",
      "              precision    recall  f1-score   support\n",
      "\n",
      "           0       0.48      0.44      0.46      1439\n",
      "           1       0.43      0.32      0.37      1090\n",
      "           2       0.58      0.70      0.63      1990\n",
      "\n",
      "    accuracy                           0.52      4519\n",
      "   macro avg       0.50      0.48      0.49      4519\n",
      "weighted avg       0.51      0.52      0.51      4519\n",
      "\n",
      "kernel :  rbf   gamma =  1   C =    10\n",
      "              precision    recall  f1-score   support\n",
      "\n",
      "           0       0.46      0.44      0.45      1439\n",
      "           1       0.41      0.32      0.36      1090\n",
      "           2       0.57      0.66      0.61      1990\n",
      "\n",
      "    accuracy                           0.51      4519\n",
      "   macro avg       0.48      0.48      0.48      4519\n",
      "weighted avg       0.50      0.51      0.50      4519\n",
      "\n",
      "kernel :  rbf   gamma =  10   C =    0.1\n",
      "              precision    recall  f1-score   support\n",
      "\n",
      "           0       0.96      0.02      0.03      1439\n",
      "           1       0.00      0.00      0.00      1090\n",
      "           2       0.44      1.00      0.61      1990\n",
      "\n",
      "    accuracy                           0.45      4519\n",
      "   macro avg       0.47      0.34      0.21      4519\n",
      "weighted avg       0.50      0.45      0.28      4519\n",
      "\n"
     ]
    },
    {
     "name": "stderr",
     "output_type": "stream",
     "text": [
      "C:\\ProgramData\\Anaconda3\\lib\\site-packages\\sklearn\\metrics\\_classification.py:1268: UndefinedMetricWarning: Precision and F-score are ill-defined and being set to 0.0 in labels with no predicted samples. Use `zero_division` parameter to control this behavior.\n",
      "  _warn_prf(average, modifier, msg_start, len(result))\n"
     ]
    },
    {
     "name": "stdout",
     "output_type": "stream",
     "text": [
      "kernel :  rbf   gamma =  10   C =    1\n",
      "              precision    recall  f1-score   support\n",
      "\n",
      "           0       0.46      0.38      0.42      1439\n",
      "           1       0.41      0.23      0.30      1090\n",
      "           2       0.53      0.72      0.61      1990\n",
      "\n",
      "    accuracy                           0.49      4519\n",
      "   macro avg       0.47      0.44      0.44      4519\n",
      "weighted avg       0.48      0.49      0.47      4519\n",
      "\n",
      "kernel :  rbf   gamma =  10   C =    10\n",
      "              precision    recall  f1-score   support\n",
      "\n",
      "           0       0.46      0.38      0.42      1439\n",
      "           1       0.41      0.23      0.30      1090\n",
      "           2       0.53      0.72      0.61      1990\n",
      "\n",
      "    accuracy                           0.49      4519\n",
      "   macro avg       0.47      0.44      0.44      4519\n",
      "weighted avg       0.48      0.49      0.47      4519\n",
      "\n",
      "kernel :  poly   gamma =  0.1   C =    0.1\n",
      "              precision    recall  f1-score   support\n",
      "\n",
      "           0       0.00      0.00      0.00      1439\n",
      "           1       0.00      0.00      0.00      1090\n",
      "           2       0.44      1.00      0.61      1990\n",
      "\n",
      "    accuracy                           0.44      4519\n",
      "   macro avg       0.15      0.33      0.20      4519\n",
      "weighted avg       0.19      0.44      0.27      4519\n",
      "\n"
     ]
    },
    {
     "name": "stderr",
     "output_type": "stream",
     "text": [
      "C:\\ProgramData\\Anaconda3\\lib\\site-packages\\sklearn\\metrics\\_classification.py:1268: UndefinedMetricWarning: Precision and F-score are ill-defined and being set to 0.0 in labels with no predicted samples. Use `zero_division` parameter to control this behavior.\n",
      "  _warn_prf(average, modifier, msg_start, len(result))\n"
     ]
    },
    {
     "name": "stdout",
     "output_type": "stream",
     "text": [
      "kernel :  poly   gamma =  0.1   C =    1\n",
      "              precision    recall  f1-score   support\n",
      "\n",
      "           0       0.68      0.06      0.11      1439\n",
      "           1       0.50      0.00      0.00      1090\n",
      "           2       0.45      0.99      0.62      1990\n",
      "\n",
      "    accuracy                           0.46      4519\n",
      "   macro avg       0.54      0.35      0.24      4519\n",
      "weighted avg       0.53      0.46      0.31      4519\n",
      "\n",
      "kernel :  poly   gamma =  0.1   C =    10\n",
      "              precision    recall  f1-score   support\n",
      "\n",
      "           0       0.50      0.44      0.46      1439\n",
      "           1       0.50      0.24      0.32      1090\n",
      "           2       0.56      0.77      0.65      1990\n",
      "\n",
      "    accuracy                           0.54      4519\n",
      "   macro avg       0.52      0.48      0.48      4519\n",
      "weighted avg       0.53      0.54      0.51      4519\n",
      "\n",
      "kernel :  poly   gamma =  1   C =    0.1\n",
      "              precision    recall  f1-score   support\n",
      "\n",
      "           0       0.47      0.43      0.45      1439\n",
      "           1       0.43      0.32      0.37      1090\n",
      "           2       0.58      0.69      0.63      1990\n",
      "\n",
      "    accuracy                           0.52      4519\n",
      "   macro avg       0.49      0.48      0.48      4519\n",
      "weighted avg       0.51      0.52      0.51      4519\n",
      "\n",
      "kernel :  poly   gamma =  1   C =    1\n",
      "              precision    recall  f1-score   support\n",
      "\n",
      "           0       0.47      0.44      0.45      1439\n",
      "           1       0.41      0.33      0.36      1090\n",
      "           2       0.57      0.66      0.61      1990\n",
      "\n",
      "    accuracy                           0.51      4519\n",
      "   macro avg       0.48      0.48      0.48      4519\n",
      "weighted avg       0.50      0.51      0.50      4519\n",
      "\n",
      "kernel :  poly   gamma =  1   C =    10\n",
      "              precision    recall  f1-score   support\n",
      "\n",
      "           0       0.47      0.44      0.45      1439\n",
      "           1       0.41      0.33      0.36      1090\n",
      "           2       0.57      0.66      0.61      1990\n",
      "\n",
      "    accuracy                           0.51      4519\n",
      "   macro avg       0.48      0.48      0.48      4519\n",
      "weighted avg       0.50      0.51      0.50      4519\n",
      "\n",
      "kernel :  poly   gamma =  10   C =    0.1\n",
      "              precision    recall  f1-score   support\n",
      "\n",
      "           0       0.47      0.44      0.45      1439\n",
      "           1       0.41      0.33      0.36      1090\n",
      "           2       0.57      0.66      0.61      1990\n",
      "\n",
      "    accuracy                           0.51      4519\n",
      "   macro avg       0.48      0.48      0.48      4519\n",
      "weighted avg       0.50      0.51      0.50      4519\n",
      "\n",
      "kernel :  poly   gamma =  10   C =    1\n",
      "              precision    recall  f1-score   support\n",
      "\n",
      "           0       0.47      0.44      0.45      1439\n",
      "           1       0.41      0.33      0.36      1090\n",
      "           2       0.57      0.66      0.61      1990\n",
      "\n",
      "    accuracy                           0.51      4519\n",
      "   macro avg       0.48      0.48      0.48      4519\n",
      "weighted avg       0.50      0.51      0.50      4519\n",
      "\n",
      "kernel :  poly   gamma =  10   C =    10\n",
      "              precision    recall  f1-score   support\n",
      "\n",
      "           0       0.47      0.44      0.45      1439\n",
      "           1       0.41      0.33      0.36      1090\n",
      "           2       0.57      0.66      0.61      1990\n",
      "\n",
      "    accuracy                           0.51      4519\n",
      "   macro avg       0.48      0.48      0.48      4519\n",
      "weighted avg       0.50      0.51      0.50      4519\n",
      "\n"
     ]
    }
   ],
   "source": [
    "for kernel in kernels :\n",
    "    for gamma in gammas :\n",
    "        for C in Cs :\n",
    "            svc = SVC(kernel=kernel, gamma = gamma, C=C)\n",
    "            svc.fit(X_train, Y_train)\n",
    "            Y_pred = svc.predict(X_test)\n",
    "            print('kernel : ',kernel,' ','gamma = ',gamma,' ','C = ',' ',C)\n",
    "            print(classification_report(Y_test,Y_pred))"
   ]
  },
  {
   "cell_type": "code",
   "execution_count": null,
   "metadata": {},
   "outputs": [],
   "source": []
  }
 ],
 "metadata": {
  "kernelspec": {
   "display_name": "Python 3",
   "language": "python",
   "name": "python3"
  },
  "language_info": {
   "codemirror_mode": {
    "name": "ipython",
    "version": 3
   },
   "file_extension": ".py",
   "mimetype": "text/x-python",
   "name": "python",
   "nbconvert_exporter": "python",
   "pygments_lexer": "ipython3",
   "version": "3.7.3"
  }
 },
 "nbformat": 4,
 "nbformat_minor": 2
}
